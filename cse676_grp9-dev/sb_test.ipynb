{
 "cells": [
  {
   "cell_type": "code",
   "execution_count": 1,
   "metadata": {},
   "outputs": [],
   "source": [
    "import sacrebleu"
   ]
  },
  {
   "cell_type": "code",
   "execution_count": 2,
   "metadata": {},
   "outputs": [
    {
     "name": "stdout",
     "output_type": "stream",
     "text": [
      "100.00000000000004\n"
     ]
    }
   ],
   "source": [
    "sent1 = \"My name is John Doe\"\n",
    "sent2 = \"My name is John Doe\"\n",
    "\n",
    "bleu = sacrebleu.sentence_bleu(sent1, [sent2])\n",
    "print(bleu.score)"
   ]
  },
  {
   "cell_type": "code",
   "execution_count": 3,
   "metadata": {},
   "outputs": [],
   "source": [
    "from torchmetrics.text import ROUGEScore\n",
    "rb = ROUGEScore()"
   ]
  },
  {
   "cell_type": "code",
   "execution_count": 10,
   "metadata": {},
   "outputs": [
    {
     "name": "stdout",
     "output_type": "stream",
     "text": [
      "{'rouge1_fmeasure': tensor(0.9841), 'rouge1_precision': tensor(0.9714), 'rouge1_recall': tensor(1.), 'rouge2_fmeasure': tensor(0.4439), 'rouge2_precision': tensor(0.4286), 'rouge2_recall': tensor(0.4643), 'rougeL_fmeasure': tensor(0.5556), 'rougeL_precision': tensor(0.5429), 'rougeL_recall': tensor(0.5714), 'rougeLsum_fmeasure': tensor(0.5556), 'rougeLsum_precision': tensor(0.5429), 'rougeLsum_recall': tensor(0.5714)}\n"
     ]
    }
   ],
   "source": [
    "sent1 = \"My name is John Doe\"\n",
    "sent2 = \"Doe John is My name\"\n",
    "\n",
    "rb.update(sent2, sent1)\n",
    "print(rb.compute())"
   ]
  }
 ],
 "metadata": {
  "kernelspec": {
   "display_name": "Python 3",
   "language": "python",
   "name": "python3"
  },
  "language_info": {
   "codemirror_mode": {
    "name": "ipython",
    "version": 3
   },
   "file_extension": ".py",
   "mimetype": "text/x-python",
   "name": "python",
   "nbconvert_exporter": "python",
   "pygments_lexer": "ipython3",
   "version": "3.8.10"
  }
 },
 "nbformat": 4,
 "nbformat_minor": 2
}
